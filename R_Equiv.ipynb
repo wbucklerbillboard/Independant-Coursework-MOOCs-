{
 "cells": [
  {
   "cell_type": "markdown",
   "metadata": {
    "deletable": false,
    "editable": false,
    "nbgrader": {
     "cell_type": "markdown",
     "checksum": "fcf5a1bb8e68a79b3cc9e59d862ef98a",
     "grade": false,
     "grade_id": "cell-f2d00c67ecd9e7dc",
     "locked": true,
     "schema_version": 3,
     "solution": false
    }
   },
   "source": [
    "## Problem 1 - Reading in a tricky data file (*5 points*)\n",
    "\n",
    "You first task for this exercise is to read in the data file [data/1091402.txt](data/1091402.txt) to a variable called `data`. Please perform the tasks below by writing your code into the codeblocks in each section.\n",
    "\n",
    "**Notice**: Closely follow the instructions! For example, you should be sure to use **exactly** the same variable names mentioned in the instructions because your answers will be automatically graded, and the tests that grade your answers rely on following the same formatting or variable naming as in the instructions.\n",
    "\n",
    "**Your score on this problem will be based on following criteria:**\n",
    "\n",
    "- Reading the data into a variable called `data` with the Pandas function `read_csv()`\n",
    "    - Be sure the numerical values for rainfall and temperature are read in as numbers\n",
    "    - The second row of the datafile should be skipped, but the text labels for the columns should be from the first row\n",
    "    - The no-data values (assigned with value **`-9999`**) should properly be converted to `NaN`\n",
    "- Calculating a number of values from the data file used in this problem\n",
    "- Including comments that explain what most lines in the code do\n",
    "- Answering a couple questions at the end of the problem\n",
    "- Uploading your notebook to your GitHub repository for this week's exercise"
   ]
  },
  {
   "cell_type": "markdown",
   "metadata": {
    "deletable": false,
    "editable": false,
    "nbgrader": {
     "cell_type": "markdown",
     "checksum": "a30f7c561ea9cc87e2be014b4a313fc0",
     "grade": false,
     "grade_id": "cell-52cc9f4650eada57",
     "locked": true,
     "schema_version": 3,
     "solution": false
    },
    "tags": []
   },
   "source": [
    "### Part 1 (*1.5 points*)\n",
    "\n",
    "You should start by reading the data file.\n",
    "\n",
    "- Read the data file into variable the variable `data`\n",
    "    - Skip the second row\n",
    "    - Convert the no-data values into `NaN` (values `-9999`)"
   ]
  },
  {
   "cell_type": "code",
   "execution_count": 2,
   "metadata": {
    "deletable": false,
    "nbgrader": {
     "cell_type": "code",
     "checksum": "2eb13cbfbd5d8b8bc91a2bb6966a32d6",
     "grade": false,
     "grade_id": "read_file",
     "locked": false,
     "schema_version": 3,
     "solution": true
    }
   },
   "outputs": [
    {
     "name": "stdout",
     "output_type": "stream",
     "text": [
      "             Date  Latitude  Longitude        Type   Depth  Magnitude  \\\n",
      "0      01/02/1965   19.2460   145.6160  Earthquake  131.60        6.0   \n",
      "1      01/04/1965    1.8630   127.3520  Earthquake   80.00        5.8   \n",
      "2      01/05/1965  -20.5790  -173.9720  Earthquake   20.00        6.2   \n",
      "3      01/08/1965  -59.0760   -23.5570  Earthquake   15.00        5.8   \n",
      "4      01/09/1965   11.9380   126.4270  Earthquake   15.00        5.8   \n",
      "...           ...       ...        ...         ...     ...        ...   \n",
      "23407  12/28/2016   38.3917  -118.8941  Earthquake   12.30        5.6   \n",
      "23408  12/28/2016   38.3777  -118.8957  Earthquake    8.80        5.5   \n",
      "23409  12/28/2016   36.9179   140.4262  Earthquake   10.00        5.9   \n",
      "23410  12/29/2016   -9.0283   118.6639  Earthquake   79.00        6.3   \n",
      "23411  12/30/2016   37.3973   141.4103  Earthquake   11.94        5.5   \n",
      "\n",
      "      Magnitude Type            ID  Year  \n",
      "0                 MW  ISCGEM860706  None  \n",
      "1                 MW  ISCGEM860737  None  \n",
      "2                 MW  ISCGEM860762  None  \n",
      "3                 MW  ISCGEM860856  None  \n",
      "4                 MW  ISCGEM860890  None  \n",
      "...              ...           ...   ...  \n",
      "23407             ML    NN00570710  None  \n",
      "23408             ML    NN00570744  None  \n",
      "23409            MWW    US10007NAF  None  \n",
      "23410            MWW    US10007NL0  None  \n",
      "23411             MB    US10007NTD  None  \n",
      "\n",
      "[23412 rows x 9 columns]\n"
     ]
    }
   ],
   "source": [
    "#If \"locked out\" (cells are inaccessible): Property Inspector > Advanced Tools > Cell Metadata > Changed \"Editable\" from False to True\n",
    "\n",
    "import pandas as pd\n",
    "\n",
    "data = pd.read_csv('database.csv') #, usecols='Date', 'Latitude', 'Longitude', 'Type', 'Depth', 'Magnitude', 'Magnitude_Type', 'ID')\n",
    "data[\"Year\"] = None\n",
    "#print(data)\n",
    "# Add Year column (in R, field)\n",
    "#data[\"Year\"] = None\n",
    "\n",
    "eq_subset = data[[\"Date\", 'Latitude', 'Longitude', 'Type', 'Depth', 'Magnitude', 'Magnitude Type', 'ID', 'Year']]\n",
    "print(eq_subset)"
   ]
  },
  {
   "cell_type": "code",
   "execution_count": 23,
   "metadata": {},
   "outputs": [],
   "source": [
    "# Convert date to dd/mm/year\n",
    "#data['TIME_STR'] = data['Date'].astype(str)\n",
    "\n",
    "## Had to use utc parameter.  Otherwise, accessor (dt.year) didn't work;\n",
    "## Also, datetime dtype was an 'Object'\n",
    "data['Date'] = pd.to_datetime(data['Date'], utc=True)\n",
    "data['Year'] = data['Date'].dt.year\n",
    "#data\n",
    "\n",
    "#data['TIME_STR'] = data['Date'].astype(str)\n",
    "#data['Year'] = data['TIME_STR'].str.slice(start=0, stop=3)"
   ]
  },
  {
   "cell_type": "code",
   "execution_count": 26,
   "metadata": {},
   "outputs": [],
   "source": [
    "# Error found in for loop/Earthquake count-year creation:\n",
    "# TypeError: list indices must be integers or slices, not str\n",
    "# Source: https://www.geeksforgeeks.org/python-converting-all-strings-in-list-to-integers/\n",
    "\n",
    "test_list = data['Year']\n",
    "test_list = list(map(int, test_list))\n",
    "#test_list"
   ]
  },
  {
   "cell_type": "code",
   "execution_count": 61,
   "metadata": {},
   "outputs": [],
   "source": [
    "groupyear = data.groupby('Year')\n",
    "\n",
    "# Inspect groupby\n",
    "#group1 = groupyear.get_group(2016)\n",
    "#print(group1)\n",
    "\n",
    "# Alternative groupby.  Due to how using Year creates str-to-int error\n",
    "#groupdate = data.groupby('Date')"
   ]
  },
  {
   "cell_type": "code",
   "execution_count": 66,
   "metadata": {},
   "outputs": [
    {
     "data": {
      "text/html": [
       "<div>\n",
       "<style scoped>\n",
       "    .dataframe tbody tr th:only-of-type {\n",
       "        vertical-align: middle;\n",
       "    }\n",
       "\n",
       "    .dataframe tbody tr th {\n",
       "        vertical-align: top;\n",
       "    }\n",
       "\n",
       "    .dataframe thead th {\n",
       "        text-align: right;\n",
       "    }\n",
       "</style>\n",
       "<table border=\"1\" class=\"dataframe\">\n",
       "  <thead>\n",
       "    <tr style=\"text-align: right;\">\n",
       "      <th></th>\n",
       "      <th>Earthquake Count</th>\n",
       "      <th>Avg Magnitude</th>\n",
       "      <th>Max Magnitude</th>\n",
       "    </tr>\n",
       "    <tr>\n",
       "      <th>Year</th>\n",
       "      <th></th>\n",
       "      <th></th>\n",
       "      <th></th>\n",
       "    </tr>\n",
       "  </thead>\n",
       "  <tbody>\n",
       "    <tr>\n",
       "      <th>1965</th>\n",
       "      <td>339</td>\n",
       "      <td>6.014159</td>\n",
       "      <td>8.7</td>\n",
       "    </tr>\n",
       "    <tr>\n",
       "      <th>1966</th>\n",
       "      <td>234</td>\n",
       "      <td>6.040470</td>\n",
       "      <td>8.1</td>\n",
       "    </tr>\n",
       "    <tr>\n",
       "      <th>1967</th>\n",
       "      <td>255</td>\n",
       "      <td>6.003922</td>\n",
       "      <td>7.4</td>\n",
       "    </tr>\n",
       "    <tr>\n",
       "      <th>1968</th>\n",
       "      <td>305</td>\n",
       "      <td>6.078525</td>\n",
       "      <td>8.2</td>\n",
       "    </tr>\n",
       "    <tr>\n",
       "      <th>1969</th>\n",
       "      <td>323</td>\n",
       "      <td>6.009350</td>\n",
       "      <td>7.8</td>\n",
       "    </tr>\n",
       "    <tr>\n",
       "      <th>1970</th>\n",
       "      <td>345</td>\n",
       "      <td>6.035768</td>\n",
       "      <td>8.0</td>\n",
       "    </tr>\n",
       "    <tr>\n",
       "      <th>1971</th>\n",
       "      <td>386</td>\n",
       "      <td>5.972539</td>\n",
       "      <td>8.1</td>\n",
       "    </tr>\n",
       "    <tr>\n",
       "      <th>1972</th>\n",
       "      <td>388</td>\n",
       "      <td>5.943814</td>\n",
       "      <td>8.0</td>\n",
       "    </tr>\n",
       "    <tr>\n",
       "      <th>1973</th>\n",
       "      <td>401</td>\n",
       "      <td>5.814065</td>\n",
       "      <td>7.7</td>\n",
       "    </tr>\n",
       "    <tr>\n",
       "      <th>1974</th>\n",
       "      <td>361</td>\n",
       "      <td>5.830332</td>\n",
       "      <td>7.6</td>\n",
       "    </tr>\n",
       "    <tr>\n",
       "      <th>1975</th>\n",
       "      <td>412</td>\n",
       "      <td>5.848277</td>\n",
       "      <td>7.9</td>\n",
       "    </tr>\n",
       "    <tr>\n",
       "      <th>1976</th>\n",
       "      <td>457</td>\n",
       "      <td>5.825842</td>\n",
       "      <td>8.0</td>\n",
       "    </tr>\n",
       "    <tr>\n",
       "      <th>1977</th>\n",
       "      <td>425</td>\n",
       "      <td>5.783765</td>\n",
       "      <td>7.9</td>\n",
       "    </tr>\n",
       "    <tr>\n",
       "      <th>1978</th>\n",
       "      <td>410</td>\n",
       "      <td>5.818537</td>\n",
       "      <td>7.7</td>\n",
       "    </tr>\n",
       "    <tr>\n",
       "      <th>1979</th>\n",
       "      <td>356</td>\n",
       "      <td>5.828371</td>\n",
       "      <td>7.9</td>\n",
       "    </tr>\n",
       "    <tr>\n",
       "      <th>1980</th>\n",
       "      <td>348</td>\n",
       "      <td>5.845690</td>\n",
       "      <td>7.9</td>\n",
       "    </tr>\n",
       "    <tr>\n",
       "      <th>1981</th>\n",
       "      <td>321</td>\n",
       "      <td>5.862773</td>\n",
       "      <td>7.7</td>\n",
       "    </tr>\n",
       "    <tr>\n",
       "      <th>1982</th>\n",
       "      <td>346</td>\n",
       "      <td>5.817630</td>\n",
       "      <td>7.2</td>\n",
       "    </tr>\n",
       "    <tr>\n",
       "      <th>1983</th>\n",
       "      <td>453</td>\n",
       "      <td>5.876733</td>\n",
       "      <td>7.6</td>\n",
       "    </tr>\n",
       "    <tr>\n",
       "      <th>1984</th>\n",
       "      <td>482</td>\n",
       "      <td>5.851701</td>\n",
       "      <td>7.6</td>\n",
       "    </tr>\n",
       "    <tr>\n",
       "      <th>1985</th>\n",
       "      <td>476</td>\n",
       "      <td>5.894874</td>\n",
       "      <td>8.0</td>\n",
       "    </tr>\n",
       "    <tr>\n",
       "      <th>1986</th>\n",
       "      <td>485</td>\n",
       "      <td>5.857093</td>\n",
       "      <td>8.0</td>\n",
       "    </tr>\n",
       "    <tr>\n",
       "      <th>1987</th>\n",
       "      <td>505</td>\n",
       "      <td>5.903564</td>\n",
       "      <td>7.9</td>\n",
       "    </tr>\n",
       "    <tr>\n",
       "      <th>1988</th>\n",
       "      <td>489</td>\n",
       "      <td>5.848875</td>\n",
       "      <td>7.8</td>\n",
       "    </tr>\n",
       "    <tr>\n",
       "      <th>1989</th>\n",
       "      <td>480</td>\n",
       "      <td>5.843333</td>\n",
       "      <td>8.2</td>\n",
       "    </tr>\n",
       "    <tr>\n",
       "      <th>1990</th>\n",
       "      <td>528</td>\n",
       "      <td>5.860625</td>\n",
       "      <td>7.8</td>\n",
       "    </tr>\n",
       "    <tr>\n",
       "      <th>1991</th>\n",
       "      <td>429</td>\n",
       "      <td>5.882284</td>\n",
       "      <td>7.6</td>\n",
       "    </tr>\n",
       "    <tr>\n",
       "      <th>1992</th>\n",
       "      <td>533</td>\n",
       "      <td>5.882702</td>\n",
       "      <td>7.8</td>\n",
       "    </tr>\n",
       "    <tr>\n",
       "      <th>1993</th>\n",
       "      <td>466</td>\n",
       "      <td>5.888841</td>\n",
       "      <td>7.8</td>\n",
       "    </tr>\n",
       "    <tr>\n",
       "      <th>1994</th>\n",
       "      <td>508</td>\n",
       "      <td>5.877500</td>\n",
       "      <td>8.3</td>\n",
       "    </tr>\n",
       "    <tr>\n",
       "      <th>1995</th>\n",
       "      <td>591</td>\n",
       "      <td>5.904822</td>\n",
       "      <td>8.0</td>\n",
       "    </tr>\n",
       "    <tr>\n",
       "      <th>1996</th>\n",
       "      <td>541</td>\n",
       "      <td>5.872089</td>\n",
       "      <td>8.2</td>\n",
       "    </tr>\n",
       "    <tr>\n",
       "      <th>1997</th>\n",
       "      <td>456</td>\n",
       "      <td>5.859868</td>\n",
       "      <td>7.8</td>\n",
       "    </tr>\n",
       "    <tr>\n",
       "      <th>1998</th>\n",
       "      <td>388</td>\n",
       "      <td>5.868814</td>\n",
       "      <td>8.1</td>\n",
       "    </tr>\n",
       "    <tr>\n",
       "      <th>1999</th>\n",
       "      <td>446</td>\n",
       "      <td>5.890605</td>\n",
       "      <td>7.7</td>\n",
       "    </tr>\n",
       "    <tr>\n",
       "      <th>2000</th>\n",
       "      <td>553</td>\n",
       "      <td>5.858228</td>\n",
       "      <td>8.0</td>\n",
       "    </tr>\n",
       "    <tr>\n",
       "      <th>2001</th>\n",
       "      <td>443</td>\n",
       "      <td>5.878330</td>\n",
       "      <td>8.4</td>\n",
       "    </tr>\n",
       "    <tr>\n",
       "      <th>2002</th>\n",
       "      <td>444</td>\n",
       "      <td>5.866216</td>\n",
       "      <td>7.9</td>\n",
       "    </tr>\n",
       "    <tr>\n",
       "      <th>2003</th>\n",
       "      <td>485</td>\n",
       "      <td>5.885732</td>\n",
       "      <td>8.3</td>\n",
       "    </tr>\n",
       "    <tr>\n",
       "      <th>2004</th>\n",
       "      <td>571</td>\n",
       "      <td>5.850911</td>\n",
       "      <td>9.1</td>\n",
       "    </tr>\n",
       "    <tr>\n",
       "      <th>2005</th>\n",
       "      <td>533</td>\n",
       "      <td>5.855347</td>\n",
       "      <td>8.6</td>\n",
       "    </tr>\n",
       "    <tr>\n",
       "      <th>2006</th>\n",
       "      <td>508</td>\n",
       "      <td>5.859646</td>\n",
       "      <td>8.3</td>\n",
       "    </tr>\n",
       "    <tr>\n",
       "      <th>2007</th>\n",
       "      <td>608</td>\n",
       "      <td>5.886020</td>\n",
       "      <td>8.4</td>\n",
       "    </tr>\n",
       "    <tr>\n",
       "      <th>2008</th>\n",
       "      <td>508</td>\n",
       "      <td>5.908858</td>\n",
       "      <td>7.9</td>\n",
       "    </tr>\n",
       "    <tr>\n",
       "      <th>2009</th>\n",
       "      <td>517</td>\n",
       "      <td>5.867118</td>\n",
       "      <td>8.1</td>\n",
       "    </tr>\n",
       "    <tr>\n",
       "      <th>2010</th>\n",
       "      <td>560</td>\n",
       "      <td>5.899643</td>\n",
       "      <td>8.8</td>\n",
       "    </tr>\n",
       "    <tr>\n",
       "      <th>2011</th>\n",
       "      <td>713</td>\n",
       "      <td>5.864656</td>\n",
       "      <td>9.1</td>\n",
       "    </tr>\n",
       "    <tr>\n",
       "      <th>2012</th>\n",
       "      <td>445</td>\n",
       "      <td>5.872809</td>\n",
       "      <td>8.6</td>\n",
       "    </tr>\n",
       "    <tr>\n",
       "      <th>2013</th>\n",
       "      <td>461</td>\n",
       "      <td>5.881779</td>\n",
       "      <td>8.3</td>\n",
       "    </tr>\n",
       "    <tr>\n",
       "      <th>2014</th>\n",
       "      <td>480</td>\n",
       "      <td>5.886917</td>\n",
       "      <td>8.2</td>\n",
       "    </tr>\n",
       "    <tr>\n",
       "      <th>2015</th>\n",
       "      <td>446</td>\n",
       "      <td>5.913072</td>\n",
       "      <td>8.3</td>\n",
       "    </tr>\n",
       "    <tr>\n",
       "      <th>2016</th>\n",
       "      <td>469</td>\n",
       "      <td>5.892836</td>\n",
       "      <td>7.9</td>\n",
       "    </tr>\n",
       "  </tbody>\n",
       "</table>\n",
       "</div>"
      ],
      "text/plain": [
       "      Earthquake Count  Avg Magnitude  Max Magnitude\n",
       "Year                                                \n",
       "1965               339       6.014159            8.7\n",
       "1966               234       6.040470            8.1\n",
       "1967               255       6.003922            7.4\n",
       "1968               305       6.078525            8.2\n",
       "1969               323       6.009350            7.8\n",
       "1970               345       6.035768            8.0\n",
       "1971               386       5.972539            8.1\n",
       "1972               388       5.943814            8.0\n",
       "1973               401       5.814065            7.7\n",
       "1974               361       5.830332            7.6\n",
       "1975               412       5.848277            7.9\n",
       "1976               457       5.825842            8.0\n",
       "1977               425       5.783765            7.9\n",
       "1978               410       5.818537            7.7\n",
       "1979               356       5.828371            7.9\n",
       "1980               348       5.845690            7.9\n",
       "1981               321       5.862773            7.7\n",
       "1982               346       5.817630            7.2\n",
       "1983               453       5.876733            7.6\n",
       "1984               482       5.851701            7.6\n",
       "1985               476       5.894874            8.0\n",
       "1986               485       5.857093            8.0\n",
       "1987               505       5.903564            7.9\n",
       "1988               489       5.848875            7.8\n",
       "1989               480       5.843333            8.2\n",
       "1990               528       5.860625            7.8\n",
       "1991               429       5.882284            7.6\n",
       "1992               533       5.882702            7.8\n",
       "1993               466       5.888841            7.8\n",
       "1994               508       5.877500            8.3\n",
       "1995               591       5.904822            8.0\n",
       "1996               541       5.872089            8.2\n",
       "1997               456       5.859868            7.8\n",
       "1998               388       5.868814            8.1\n",
       "1999               446       5.890605            7.7\n",
       "2000               553       5.858228            8.0\n",
       "2001               443       5.878330            8.4\n",
       "2002               444       5.866216            7.9\n",
       "2003               485       5.885732            8.3\n",
       "2004               571       5.850911            9.1\n",
       "2005               533       5.855347            8.6\n",
       "2006               508       5.859646            8.3\n",
       "2007               608       5.886020            8.4\n",
       "2008               508       5.908858            7.9\n",
       "2009               517       5.867118            8.1\n",
       "2010               560       5.899643            8.8\n",
       "2011               713       5.864656            9.1\n",
       "2012               445       5.872809            8.6\n",
       "2013               461       5.881779            8.3\n",
       "2014               480       5.886917            8.2\n",
       "2015               446       5.913072            8.3\n",
       "2016               469       5.892836            7.9"
      ]
     },
     "execution_count": 66,
     "metadata": {},
     "output_type": "execute_result"
    }
   ],
   "source": [
    "#  https://www.stackvidhya.com/add-column-to-dataframe/#:~:text=insert()%20method%20%E2%80%93%20Use%20insert,column%20in%20the%20same%20dataframe.\n",
    "\n",
    "year_eqf = pd.DataFrame()\n",
    "year_eqf['Earthquake Count'] = None\n",
    "\n",
    "#for key, group in groupyear:\n",
    "#    year_eqf['Earthquake Count'] = len(group)\n",
    "#    year_eqf['Year'] = key\n",
    "\n",
    "#year_eqf\n",
    "\n",
    "## Came across groupby.count() Pandas reference, as a variation of grouped.mean(), found in\n",
    "## \"Finding the mean for all groups at once\n",
    "##  We can also achieve the same result by...\", Geo-Python 2021, lesson 6, Pandas II \n",
    "year_eqf['Earthquake Count'] = groupyear['Year'].count()\n",
    "year_eqf['Avg Magnitude'] = groupyear['Magnitude'].mean()\n",
    "year_eqf['Max Magnitude'] = groupyear['Magnitude'].max()\n",
    "year_eqf"
   ]
  },
  {
   "cell_type": "code",
   "execution_count": 68,
   "metadata": {},
   "outputs": [],
   "source": [
    "year_eqf.to_csv(path_or_buf= 'C:/Users/Will Buckler/Desktop/SWEFC/DataPipe_R_Spark_Java/quakes.csv')\n",
    "eq_subset.to_csv(path_or_buf = 'C:/Users/Will Buckler/Desktop/SWEFC/DataPipe_R_Spark_Java/quake_freq.csv')"
   ]
  },
  {
   "cell_type": "code",
   "execution_count": null,
   "metadata": {},
   "outputs": [],
   "source": []
  },
  {
   "cell_type": "code",
   "execution_count": null,
   "metadata": {},
   "outputs": [],
   "source": []
  },
  {
   "cell_type": "code",
   "execution_count": 2,
   "metadata": {
    "deletable": false,
    "nbgrader": {
     "cell_type": "code",
     "checksum": "0f4de7d3737c02be02d9a2f355ec7510",
     "grade": true,
     "grade_id": "problem_1_read_file_tests1",
     "locked": true,
     "points": 0.5,
     "schema_version": 3,
     "solution": false
    }
   },
   "outputs": [
    {
     "name": "stdout",
     "output_type": "stream",
     "text": [
      "       Date,Time,Latitude,Longitude,Type,Depth,Depth Error,Depth  Seismic  \\\n",
      "0  01/04/1965,11:29:49,1.863,127.352,Earthquake,8...         NaN      NaN   \n",
      "1  01/05/1965,18:05:58,-20.579,-173.972,Earthquak...         NaN      NaN   \n",
      "2  01/08/1965,18:49:43,-59.076,-23.557,Earthquake...         NaN      NaN   \n",
      "3  01/09/1965,13:32:50,11.938,126.427,Earthquake,...         NaN      NaN   \n",
      "4  01/10/1965,13:36:32,-13.405,166.629,Earthquake...         NaN      NaN   \n",
      "5  01/12/1965,13:32:25,27.357,87.867,Earthquake,2...         NaN      NaN   \n",
      "6  01/15/1965,23:17:42,-13.309,166.212,Earthquake...         NaN      NaN   \n",
      "7  01/16/1965,11:32:37,-56.452,-27.043,Earthquake...         NaN      NaN   \n",
      "8  01/17/1965,10:43:17,-24.563,178.487,Earthquake...         NaN      NaN   \n",
      "9  01/17/1965,20:57:41,-6.807,108.988,Earthquake,...         NaN      NaN   \n",
      "\n",
      "   Stations,Magnitude,Magnitude  Type,Magnitude  Error,Magnitude  Seismic.1  \\\n",
      "0                           NaN             NaN              NaN        NaN   \n",
      "1                           NaN             NaN              NaN        NaN   \n",
      "2                           NaN             NaN              NaN        NaN   \n",
      "3                           NaN             NaN              NaN        NaN   \n",
      "4                           NaN             NaN              NaN        NaN   \n",
      "5                           NaN             NaN              NaN        NaN   \n",
      "6                           NaN             NaN              NaN        NaN   \n",
      "7                           NaN             NaN              NaN        NaN   \n",
      "8                           NaN             NaN              NaN        NaN   \n",
      "9                           NaN             NaN              NaN        NaN   \n",
      "\n",
      "   Stations,Azimuthal  Gap,Horizontal  Distance,Horizontal  Error,Root  Mean  \\\n",
      "0                 NaN             NaN                  NaN         NaN   NaN   \n",
      "1                 NaN             NaN                  NaN         NaN   NaN   \n",
      "2                 NaN             NaN                  NaN         NaN   NaN   \n",
      "3                 NaN             NaN                  NaN         NaN   NaN   \n",
      "4                 NaN             NaN                  NaN         NaN   NaN   \n",
      "5                 NaN             NaN                  NaN         NaN   NaN   \n",
      "6                 NaN             NaN                  NaN         NaN   NaN   \n",
      "7                 NaN             NaN                  NaN         NaN   NaN   \n",
      "8                 NaN             NaN                  NaN         NaN   NaN   \n",
      "9                 NaN             NaN                  NaN         NaN   NaN   \n",
      "\n",
      "   Square,ID,Source,Location  Source,Magnitude  Source,Status  \n",
      "0                        NaN               NaN            NaN  \n",
      "1                        NaN               NaN            NaN  \n",
      "2                        NaN               NaN            NaN  \n",
      "3                        NaN               NaN            NaN  \n",
      "4                        NaN               NaN            NaN  \n",
      "5                        NaN               NaN            NaN  \n",
      "6                        NaN               NaN            NaN  \n",
      "7                        NaN               NaN            NaN  \n",
      "8                        NaN               NaN            NaN  \n",
      "9                        NaN               NaN            NaN  \n"
     ]
    }
   ],
   "source": [
    "# This test print should print the head and the column names\n",
    "print(data.head(10))\n",
    "#print(data.columns)\n"
   ]
  },
  {
   "cell_type": "code",
   "execution_count": 3,
   "metadata": {
    "deletable": false,
    "nbgrader": {
     "cell_type": "code",
     "checksum": "04075757e33241790e38e2eaec42921f",
     "grade": true,
     "grade_id": "problem_1_read_file_tests2",
     "locked": true,
     "points": 0.5,
     "schema_version": 3,
     "solution": false
    }
   },
   "outputs": [
    {
     "name": "stdout",
     "output_type": "stream",
     "text": [
      "['GHCND:FIE00142080' 51 60.3269 24.9603 19520101 0.31 37 39 34]\n"
     ]
    }
   ],
   "source": [
    "# This test print should print the first row of data\n",
    "print(data.loc[0].values)\n"
   ]
  },
  {
   "cell_type": "code",
   "execution_count": 34,
   "metadata": {
    "deletable": false,
    "nbgrader": {
     "cell_type": "code",
     "checksum": "339ce3b455cea77de81ed3db01cab614",
     "grade": true,
     "grade_id": "problem_1_read_file_tests3",
     "locked": true,
     "points": 0.5,
     "schema_version": 3,
     "solution": false
    }
   },
   "outputs": [
    {
     "name": "stdout",
     "output_type": "stream",
     "text": [
      "-9999\n"
     ]
    }
   ],
   "source": [
    "# This test print should print the last row of data in column 'TMIN'\n",
    "print(data.tail(1)[['TMIN']].values[0][0])\n"
   ]
  },
  {
   "cell_type": "markdown",
   "metadata": {
    "deletable": false,
    "editable": false,
    "nbgrader": {
     "cell_type": "markdown",
     "checksum": "5c1cae04d06df542bc11570048e519d3",
     "grade": false,
     "grade_id": "cell-7f848d5f8acf3a0f",
     "locked": true,
     "schema_version": 3,
     "solution": false
    }
   },
   "source": [
    "### Part 2 (*0.5 points*)\n",
    "\n",
    "- Calculate how many no-data (NaN) values there are for the `TAVG` column\n",
    "    - Assign your answer to a variable called `tavg_nodata_count`."
   ]
  },
  {
   "cell_type": "code",
   "execution_count": 12,
   "metadata": {
    "deletable": false,
    "nbgrader": {
     "cell_type": "code",
     "checksum": "96ce9838c749aca907288edea6c7f9c0",
     "grade": false,
     "grade_id": "tavg_nodata_count",
     "locked": false,
     "schema_version": 3,
     "solution": true
    }
   },
   "outputs": [
    {
     "data": {
      "text/plain": [
       "23716"
      ]
     },
     "execution_count": 12,
     "metadata": {},
     "output_type": "execute_result"
    }
   ],
   "source": [
    "#https://www.learndatasci.com/solutions/python-valueerror-truth-value-series-ambiguous-use-empty-bool-item-any-or-all/\n",
    "# Other alternatives:\n",
    "#https://datatofish.com/pandas-dataframe-to-series/\n",
    "#https://pandas.pydata.org/docs/reference/api/pandas.DataFrame.squeeze.html\n",
    "#https://pandas.pydata.org/docs/reference/api/pandas.DataFrame.isnull.html\n",
    "#https://www.geeksforgeeks.org/count-nan-or-missing-values-in-pandas-dataframe/\n",
    "#Learned something new, and problematic, with apply():  https://stackoverflow.com/questions/67660209/pandas-attributeerror-str-object-has-no-attribute-isnull\n",
    "\n",
    "tavg_nodata_count = 0\n",
    "\n",
    "for idx, row in data.iterrows():\n",
    "    if row['TAVG'] == -9999:\n",
    "        tavg_nodata_count+=1\n",
    "        \n",
    "#len(data['TAVG'])        \n",
    "\n",
    "# REPLACE THE ERROR BELOW WITH YOUR OWN CODE\n",
    "#raise NotImplementedError()"
   ]
  },
  {
   "cell_type": "code",
   "execution_count": 13,
   "metadata": {
    "deletable": false,
    "nbgrader": {
     "cell_type": "code",
     "checksum": "4078fe61cfd822f3905ce04e522da13b",
     "grade": true,
     "grade_id": "problem_1_tavg_nodata_count_tests",
     "locked": true,
     "points": 0.5,
     "schema_version": 3,
     "solution": false
    }
   },
   "outputs": [
    {
     "name": "stdout",
     "output_type": "stream",
     "text": [
      "3308\n"
     ]
    },
    {
     "data": {
      "text/plain": [
       "<function any(iterable, /)>"
      ]
     },
     "execution_count": 13,
     "metadata": {},
     "output_type": "execute_result"
    }
   ],
   "source": [
    "# This test print should print a number\n",
    "print(tavg_nodata_count)\n",
    "any"
   ]
  },
  {
   "cell_type": "markdown",
   "metadata": {
    "deletable": false,
    "editable": false,
    "nbgrader": {
     "cell_type": "markdown",
     "checksum": "ca4d15494b6e0fc30fc7d20bb0239185",
     "grade": false,
     "grade_id": "cell-600c96096b421522",
     "locked": true,
     "schema_version": 3,
     "solution": false
    }
   },
   "source": [
    "### Part 3 (*0.5 points*)\n",
    "\n",
    "- Calculate how many no-data (NaN) values there are for the `TMIN` column\n",
    "    - Assign your answer into a variable called `tmin_nodata_count`"
   ]
  },
  {
   "cell_type": "code",
   "execution_count": 15,
   "metadata": {
    "deletable": false,
    "nbgrader": {
     "cell_type": "code",
     "checksum": "254f7010910093e73777e4c67d5f3c79",
     "grade": false,
     "grade_id": "tmin_nodata_count",
     "locked": false,
     "schema_version": 3,
     "solution": true
    }
   },
   "outputs": [],
   "source": [
    "tmin_nodata_count = 0\n",
    "\n",
    "for idx, row in data.iterrows():\n",
    "    if row['TMIN'] == -9999:\n",
    "        tmin_nodata_count+=1\n",
    "\n",
    "# REPLACE THE ERROR BELOW WITH YOUR OWN CODE\n",
    "#raise NotImplementedError()"
   ]
  },
  {
   "cell_type": "code",
   "execution_count": 16,
   "metadata": {
    "deletable": false,
    "editable": false,
    "nbgrader": {
     "cell_type": "code",
     "checksum": "360abf4928405bc5636825911994e6ba",
     "grade": true,
     "grade_id": "problem_1_tmin_nodata_count_tests",
     "locked": true,
     "points": 0.5,
     "schema_version": 3,
     "solution": false
    }
   },
   "outputs": [
    {
     "name": "stdout",
     "output_type": "stream",
     "text": [
      "365\n"
     ]
    }
   ],
   "source": [
    "# This test print should print a number\n",
    "print(tmin_nodata_count)\n"
   ]
  },
  {
   "cell_type": "markdown",
   "metadata": {
    "deletable": false,
    "editable": false,
    "nbgrader": {
     "cell_type": "markdown",
     "checksum": "e31edbeb55a9238f8ca99c8cace2a918",
     "grade": false,
     "grade_id": "cell-25998b4f0d14e8f0",
     "locked": true,
     "schema_version": 3,
     "solution": false
    }
   },
   "source": [
    "### Part 4 (*0.5 points*)\n",
    "\n",
    "- Calculate the total number of days covered by this data file\n",
    "    - Assign your answer into a variable called `day_count`"
   ]
  },
  {
   "cell_type": "code",
   "execution_count": 18,
   "metadata": {
    "deletable": false,
    "nbgrader": {
     "cell_type": "code",
     "checksum": "d97be7546a91640fb5c2bca57c6133a4",
     "grade": false,
     "grade_id": "day_count",
     "locked": false,
     "schema_version": 3,
     "solution": true
    }
   },
   "outputs": [],
   "source": [
    "day_count = None\n",
    "\n",
    "day_count = len(data)\n",
    "\n",
    "# REPLACE THE ERROR BELOW WITH YOUR OWN CODE\n",
    "#raise NotImplementedError()"
   ]
  },
  {
   "cell_type": "code",
   "execution_count": 22,
   "metadata": {
    "deletable": false,
    "nbgrader": {
     "cell_type": "code",
     "checksum": "0af8b4cd87b7467188fc2259637a68b1",
     "grade": true,
     "grade_id": "problem_1_day_count_tests",
     "locked": true,
     "points": 0.5,
     "schema_version": 3,
     "solution": false
    }
   },
   "outputs": [
    {
     "name": "stdout",
     "output_type": "stream",
     "text": [
      "23716 days\n"
     ]
    }
   ],
   "source": [
    "# This test print should print a number\n",
    "print(day_count, \"days\")\n"
   ]
  },
  {
   "cell_type": "markdown",
   "metadata": {
    "deletable": false,
    "editable": false,
    "nbgrader": {
     "cell_type": "markdown",
     "checksum": "3a3bab3a2c1398932f13ed7020df53d9",
     "grade": false,
     "grade_id": "cell-424dcdef3dde1b89",
     "locked": true,
     "schema_version": 3,
     "solution": false
    }
   },
   "source": [
    "### Part 5 (*0.5 points*)\n",
    "\n",
    "- Find the date of the oldest (first) observation\n",
    "    - Assign your answer into a variable called `first_obs`"
   ]
  },
  {
   "cell_type": "code",
   "execution_count": 29,
   "metadata": {
    "deletable": false,
    "nbgrader": {
     "cell_type": "code",
     "checksum": "c48bfb73083ec8471ddc11e753891cdb",
     "grade": false,
     "grade_id": "first_observation",
     "locked": false,
     "schema_version": 3,
     "solution": true
    }
   },
   "outputs": [],
   "source": [
    "first_obs = None\n",
    "\n",
    "first_obs = data[\"DATE\"][0]\n",
    "\n",
    "# REPLACE THE ERROR BELOW WITH YOUR OWN CODE\n",
    "#raise NotImplementedError()"
   ]
  },
  {
   "cell_type": "code",
   "execution_count": 30,
   "metadata": {
    "deletable": false,
    "editable": false,
    "nbgrader": {
     "cell_type": "code",
     "checksum": "9ca88f99fe10ac8321c8cb1a61d717ee",
     "grade": true,
     "grade_id": "problem_1_first_observation_tests",
     "locked": true,
     "points": 0.5,
     "schema_version": 3,
     "solution": false
    }
   },
   "outputs": [
    {
     "name": "stdout",
     "output_type": "stream",
     "text": [
      "19520101\n"
     ]
    }
   ],
   "source": [
    "# This test print should print a number\n",
    "print(first_obs)\n"
   ]
  },
  {
   "cell_type": "markdown",
   "metadata": {
    "deletable": false,
    "editable": false,
    "nbgrader": {
     "cell_type": "markdown",
     "checksum": "1659fd1d061a01216f6148c73c3bedd8",
     "grade": false,
     "grade_id": "cell-1a9a82e0f837ac34",
     "locked": true,
     "schema_version": 3,
     "solution": false
    }
   },
   "source": [
    "### Part 6 (*0.5 points*)\n",
    "\n",
    "- Find the date of the most recent (last) observation\n",
    "    - Assign your answer into a variable called `last_obs`"
   ]
  },
  {
   "cell_type": "code",
   "execution_count": 37,
   "metadata": {
    "deletable": false,
    "nbgrader": {
     "cell_type": "code",
     "checksum": "0fc0671879ebfb3bfe7f1bf7eff5f8af",
     "grade": false,
     "grade_id": "last_observation",
     "locked": false,
     "schema_version": 3,
     "solution": true
    }
   },
   "outputs": [],
   "source": [
    "last_obs = None\n",
    "\n",
    "last_obs = data.tail(1)[['DATE']].values[0][0]\n",
    "\n",
    "# REPLACE THE ERROR BELOW WITH YOUR OWN CODE\n",
    "#raise NotImplementedError()"
   ]
  },
  {
   "cell_type": "code",
   "execution_count": 38,
   "metadata": {
    "deletable": false,
    "editable": false,
    "nbgrader": {
     "cell_type": "code",
     "checksum": "22d9bb307b7c52cb5ea565761b43c487",
     "grade": true,
     "grade_id": "problem_1_last_observation_tests",
     "locked": true,
     "points": 0.5,
     "schema_version": 3,
     "solution": false
    }
   },
   "outputs": [
    {
     "name": "stdout",
     "output_type": "stream",
     "text": [
      "20171004\n"
     ]
    }
   ],
   "source": [
    "# This test print should print a number\n",
    "print(last_obs)\n"
   ]
  },
  {
   "cell_type": "markdown",
   "metadata": {
    "deletable": false,
    "editable": false,
    "nbgrader": {
     "cell_type": "markdown",
     "checksum": "9453e29513f4c10ea7bf263b3eaa0c69",
     "grade": false,
     "grade_id": "cell-3fbd149c1e58a16c",
     "locked": true,
     "schema_version": 3,
     "solution": false
    }
   },
   "source": [
    "### Part 7 (*0.5 points*)\n",
    "\n",
    "- Find the average temperature for the whole data file (all observtions) from column `TAVG`\n",
    "    - Assign your answer into a variable called `avg_temp`"
   ]
  },
  {
   "cell_type": "code",
   "execution_count": 47,
   "metadata": {
    "deletable": false,
    "nbgrader": {
     "cell_type": "code",
     "checksum": "a6b179b8b331f4b3d3c6458a838d679e",
     "grade": false,
     "grade_id": "avg_temp",
     "locked": false,
     "schema_version": 3,
     "solution": true
    }
   },
   "outputs": [],
   "source": [
    "avg_temp = None\n",
    "sum_t = 0\n",
    "\n",
    "for idx, row in data.iterrows():\n",
    "    if row['TAVG'] != -9999:\n",
    "        sum_t += row['TAVG']\n",
    "\n",
    "avg_temp = sum_t / 23718    \n",
    "    \n",
    "# REPLACE THE ERROR BELOW WITH YOUR OWN CODE\n",
    "#raise NotImplementedError()"
   ]
  },
  {
   "cell_type": "code",
   "execution_count": 48,
   "metadata": {
    "deletable": false,
    "editable": false,
    "nbgrader": {
     "cell_type": "code",
     "checksum": "02b4f5d0bb8387f3a1b6cb13c43f63ae",
     "grade": true,
     "grade_id": "problem_1_avg_temp_test",
     "locked": true,
     "points": 0.5,
     "schema_version": 3,
     "solution": false
    }
   },
   "outputs": [
    {
     "name": "stdout",
     "output_type": "stream",
     "text": [
      "35.55704528206425\n"
     ]
    }
   ],
   "source": [
    "# This test print should print a number\n",
    "print(avg_temp)\n"
   ]
  },
  {
   "cell_type": "markdown",
   "metadata": {
    "deletable": false,
    "editable": false,
    "nbgrader": {
     "cell_type": "markdown",
     "checksum": "ee55e1b5246cd243449a9b8f52bd7a17",
     "grade": false,
     "grade_id": "cell-784617d6edc656a6",
     "locked": true,
     "schema_version": 3,
     "solution": false
    }
   },
   "source": [
    "### Part 8 (*0.5 points*)\n",
    "\n",
    "- Find the average `TMAX` temperature over the Summer of 1969 (months May, June, July, and August of the year 1969)\n",
    "    - Assign your answer into a variable called `avg_temp_1969`"
   ]
  },
  {
   "cell_type": "code",
   "execution_count": 59,
   "metadata": {
    "deletable": false,
    "nbgrader": {
     "cell_type": "code",
     "checksum": "c2e57807029ffbd6deb4afbfd43d198b",
     "grade": false,
     "grade_id": "avg_temp_69",
     "locked": false,
     "schema_version": 3,
     "solution": true
    }
   },
   "outputs": [],
   "source": [
    "avg_temp_1969 = 0\n",
    "tot_days = 0\n",
    "\n",
    "for idx, row in data.iterrows():\n",
    "    if row['DATE'] > 19690500 & row['DATE'] < 19690800:\n",
    "        tot_days = tot_days + 1\n",
    "        avg_temp_1969 = avg_temp_1969 + row['TMAX']\n",
    "        \n",
    "avg_temp_1969 = avg_temp_1969 / tot_days\n",
    "\n",
    "# REPLACE THE ERROR BELOW WITH YOUR OWN CODE\n",
    "#raise NotImplementedError()"
   ]
  },
  {
   "cell_type": "code",
   "execution_count": 60,
   "metadata": {
    "deletable": false,
    "editable": false,
    "nbgrader": {
     "cell_type": "code",
     "checksum": "846c683e2485f6bf26433a8d0aeaf399",
     "grade": true,
     "grade_id": "problem_1_avg_temp_69_tests",
     "locked": true,
     "points": 0.5,
     "schema_version": 3,
     "solution": false
    }
   },
   "outputs": [
    {
     "name": "stdout",
     "output_type": "stream",
     "text": [
      "-62.15230866540164\n"
     ]
    }
   ],
   "source": [
    "# This test print should print a number\n",
    "print(avg_temp_1969)\n"
   ]
  },
  {
   "cell_type": "markdown",
   "metadata": {
    "deletable": false,
    "editable": false,
    "nbgrader": {
     "cell_type": "markdown",
     "checksum": "72df0db7f140e4ffb8b2fd28021696a1",
     "grade": false,
     "grade_id": "cell-beeb38c1b8d3eb13",
     "locked": true,
     "schema_version": 3,
     "solution": false
    }
   },
   "source": [
    "## Problem 2 - Calculating monthly average temperatures (*7.5 points*)\n",
    "\n",
    "For this problem your goal is to calculate monthly average temperatures in degrees Celsius from the daily values we have in the data file. You can use the approaches taught in Lessons 4, 5, and 6 to solve this.\n",
    "\n",
    "**You can continue working with the same data that you used in Problem 1.**\n",
    "\n",
    "**Notice**: Closely follow the instructions! For example, you should be sure to use **exactly** the same variable names mentioned in the instructions because your answers will be automatically graded, and the tests that grade your answers rely on following the same formatting or variable naming as in the instructions.\n",
    "\n",
    "**Your score on this problem will be based on following criteria:**\n",
    "\n",
    "- Calculating the monthly average temperatures for the each month in the dataset (i.e., for each month of each year) using the approach introduced in lesson this week\n",
    "    - You should store the monthly average temperatures in a new Pandas DataFrame called `monthly_data`\n",
    "- Creating a new column called `temp_celsius` in the `monthly_data` DataFrame that contains the monthly average temperatures in Celsius\n",
    "   - First store information about the date in a column called `DATE_m` (which should be a character string column containing the month and year info) along with the `TAVG` values in the `monthly_data` DataFrame\n",
    "   - After this, you can convert the `TAVG` values in Fahrenheit to Celsius\n",
    "- Including comments that explain what most lines in the code do\n",
    "- Answering a couple questions at the end of the problem\n",
    "- Uploading your notebook to your GitHub repository for this week's exercise"
   ]
  },
  {
   "cell_type": "code",
   "execution_count": 7,
   "metadata": {
    "deletable": false,
    "nbgrader": {
     "cell_type": "code",
     "checksum": "e7a0d3c1fb193490ac0215b4adb19a2d",
     "grade": false,
     "grade_id": "monthly_averages",
     "locked": false,
     "schema_version": 3,
     "solution": true
    }
   },
   "outputs": [],
   "source": [
    "##Due to \"avg_temp = group['TAVG'].mean()\":  https://stackoverflow.com/questions/42224700/attributeerror-float-object-has-no-attribute-split\n",
    "###https://www.yawintutor.com/typeerror-float-object-does-not-support-item-assignment/\n",
    "\n",
    "##monthly_data orginally assigned as \"None\".  Replaced with pd.DataFrame() because of lesson material\n",
    "monthly_data = pd.DataFrame()\n",
    "avg_temp = []\n",
    "\n",
    "##Format \"data\" (csv) into datatime form that will allow grouping\n",
    "#data[\"DATE_CONV_yrmon\"] = pd.to_datetime(data[\"DATE\"], format='%Y%m', exact = False)\n",
    "#data[\"DATE_CONV_yrmon\"].head()\n",
    "\n",
    "##Create YEAR and MONTH columns\n",
    "#data['YEAR'] = data['DATE_CONV_yrmon'].dt.year\n",
    "#data['MONTH'] = data['DATE_CONV_yrmon'].dt.month\n",
    "#data.head()\n",
    "\n",
    "\n",
    "##  Alternative date conversion through slicing\n",
    "data[\"DT_YM_SL\"] = data[\"DATE\"].astype(str)\n",
    "data[\"DT_YM_SL\"] = data[\"DT_YM_SL\"].str.slice(start=0, stop=6)\n",
    "#data[\"DT_YM_SL\"].head(5)"
   ]
  },
  {
   "cell_type": "code",
   "execution_count": 9,
   "metadata": {},
   "outputs": [],
   "source": [
    "## Group the data.  Used either DATE_CONV_yrmon, \"YEAR\"\"MONTH\"\n",
    "grouped = data.groupby([\"DT_YM_SL\"])\n",
    "\n",
    "## What is the type?\n",
    "#print(\"Type:\\n\", type(grouped))\n",
    "\n",
    "## How many?\n",
    "#print(\"Length:\\n\", len(grouped))\n",
    "\n",
    "#grouped = data.groupby([\"DATE_CONV\"])\n",
    "#print(\"Type:\\n\", type(grouped))\n",
    "\n",
    "## Check the \"names\" of each group (uncomment the next row if you want to print out all the keys)\n",
    "#grouped.groups.keys()\n"
   ]
  },
  {
   "cell_type": "code",
   "execution_count": 10,
   "metadata": {},
   "outputs": [
    {
     "name": "stdout",
     "output_type": "stream",
     "text": [
      "Key:\n",
      " 195201\n",
      "\n",
      "First rows of data in this group:\n",
      "              STATION  ELEVATION  LATITUDE  LONGITUDE      DATE     PRCP  TAVG  \\\n",
      "0  GHCND:FIE00142080         51   60.3269    24.9603  19520101     0.31    37   \n",
      "1  GHCND:FIE00142080         51   60.3269    24.9603  19520102 -9999.00    35   \n",
      "2  GHCND:FIE00142080         51   60.3269    24.9603  19520103     0.14    33   \n",
      "3  GHCND:FIE00142080         51   60.3269    24.9603  19520104     0.05    29   \n",
      "4  GHCND:FIE00142080         51   60.3269    24.9603  19520105     0.06    27   \n",
      "\n",
      "   TMAX  TMIN DT_YM_SL  \n",
      "0    39    34   195201  \n",
      "1    37    34   195201  \n",
      "2    36 -9999   195201  \n",
      "3    30    25   195201  \n",
      "4    30    25   195201  \n"
     ]
    }
   ],
   "source": [
    "# Practice iteration over groups\n",
    "for key, group in grouped:\n",
    "    # Print key and group\n",
    "    print(\"Key:\\n\", key)\n",
    "    print(\"\\nFirst rows of data in this group:\\n\", group.head())\n",
    "\n",
    "    # Stop iteration with break command\n",
    "    break"
   ]
  },
  {
   "cell_type": "code",
   "execution_count": 11,
   "metadata": {},
   "outputs": [
    {
     "ename": "TypeError",
     "evalue": "'float' object does not support item assignment",
     "output_type": "error",
     "traceback": [
      "\u001b[1;31m---------------------------------------------------------------------------\u001b[0m",
      "\u001b[1;31mTypeError\u001b[0m                                 Traceback (most recent call last)",
      "\u001b[1;32m<ipython-input-11-461fd8c79c60>\u001b[0m in \u001b[0;36m<module>\u001b[1;34m\u001b[0m\n\u001b[0;32m      5\u001b[0m     \u001b[0mavg_temp\u001b[0m \u001b[1;33m=\u001b[0m \u001b[0mgroup\u001b[0m\u001b[1;33m[\u001b[0m\u001b[1;34m'TAVG'\u001b[0m\u001b[1;33m]\u001b[0m\u001b[1;33m.\u001b[0m\u001b[0mmean\u001b[0m\u001b[1;33m(\u001b[0m\u001b[1;33m)\u001b[0m\u001b[1;33m\u001b[0m\u001b[1;33m\u001b[0m\u001b[0m\n\u001b[0;32m      6\u001b[0m     \u001b[1;31m#add key (datetime info) into aggregated values\u001b[0m\u001b[1;33m\u001b[0m\u001b[1;33m\u001b[0m\u001b[1;33m\u001b[0m\u001b[0m\n\u001b[1;32m----> 7\u001b[1;33m     \u001b[0mavg_temp\u001b[0m\u001b[1;33m[\u001b[0m\u001b[1;34m\"YEAR\"\u001b[0m\u001b[1;33m]\u001b[0m \u001b[1;33m=\u001b[0m \u001b[0myrmon\u001b[0m\u001b[1;33m\u001b[0m\u001b[1;33m\u001b[0m\u001b[0m\n\u001b[0m\u001b[0;32m      8\u001b[0m     \u001b[1;31m#Append aggreated values into the DataFrame\u001b[0m\u001b[1;33m\u001b[0m\u001b[1;33m\u001b[0m\u001b[1;33m\u001b[0m\u001b[0m\n\u001b[0;32m      9\u001b[0m     \u001b[0mmonthly_data\u001b[0m \u001b[1;33m=\u001b[0m \u001b[0mmonthly_data\u001b[0m\u001b[1;33m.\u001b[0m\u001b[0mappend\u001b[0m\u001b[1;33m(\u001b[0m\u001b[0mavg_temp\u001b[0m\u001b[1;33m,\u001b[0m \u001b[0mignore_index\u001b[0m\u001b[1;33m=\u001b[0m\u001b[1;32mTrue\u001b[0m\u001b[1;33m)\u001b[0m\u001b[1;33m\u001b[0m\u001b[1;33m\u001b[0m\u001b[0m\n",
      "\u001b[1;31mTypeError\u001b[0m: 'float' object does not support item assignment"
     ]
    }
   ],
   "source": [
    "##Lesson 6, cell [39] - cell [40]\n",
    "for yrmon, group in grouped:\n",
    "    #yrmon = (year, month) /// group = rows and columns associated with yrmon\n",
    "    #df_newTAVG = data[data['TAVG'].notnull()]  /// calculate mean of TAVG column\n",
    "    avg_temp = group['TAVG'].mean()\n",
    "    #add key (datetime info) into aggregated values\n",
    "    avg_temp[\"YEAR\"] = yrmon\n",
    "    #Append aggreated values into the DataFrame\n",
    "    monthly_data = monthly_data.append(avg_temp, ignore_index=True)\n",
    "    "
   ]
  },
  {
   "cell_type": "code",
   "execution_count": null,
   "metadata": {},
   "outputs": [],
   "source": [
    "#Format \"data\" (csv) into datatime form that will allow grouping\n",
    "#data[\"DATE_CONV\"] = pd.to_datetime(data[\"DATE\"], format='%Y%m', exact=False)\n",
    "#data[\"DATE_CONV\"].head(50)\n",
    "\n",
    "#data[\"DATE_CONV\"] = data[\"DATE\"].astype(str)\n",
    "#data[\"DATE_CONV\"] = data[\"DATE_CONV\"].str.slice(start=0, stop=6)\n",
    "#data[\"DATE_CONV\"].head(5)\n",
    "\n",
    "##Below three lines will create accessor error, if string format is used\n",
    "#data['YEAR'] = data['DATE'].dt.year\n",
    "#data['MONTH'] = data['DATE'].dt.month\n",
    "#data.head()\n",
    "\n",
    "#grouped = data.groupby([\"YEAR\",\"MONTH\"])\n",
    "#print(\"Type:\\n\", type(grouped))"
   ]
  },
  {
   "cell_type": "code",
   "execution_count": 34,
   "metadata": {},
   "outputs": [
    {
     "data": {
      "text/html": [
       "<div>\n",
       "<style scoped>\n",
       "    .dataframe tbody tr th:only-of-type {\n",
       "        vertical-align: middle;\n",
       "    }\n",
       "\n",
       "    .dataframe tbody tr th {\n",
       "        vertical-align: top;\n",
       "    }\n",
       "\n",
       "    .dataframe thead th {\n",
       "        text-align: right;\n",
       "    }\n",
       "</style>\n",
       "<table border=\"1\" class=\"dataframe\">\n",
       "  <thead>\n",
       "    <tr style=\"text-align: right;\">\n",
       "      <th></th>\n",
       "      <th>STATION</th>\n",
       "      <th>ELEVATION</th>\n",
       "      <th>LATITUDE</th>\n",
       "      <th>LONGITUDE</th>\n",
       "      <th>DATE</th>\n",
       "      <th>PRCP</th>\n",
       "      <th>TAVG</th>\n",
       "      <th>TMAX</th>\n",
       "      <th>TMIN</th>\n",
       "      <th>DATE_CONV</th>\n",
       "      <th>YEAR</th>\n",
       "      <th>MONTH</th>\n",
       "      <th>DATE_CONV_yrmon</th>\n",
       "    </tr>\n",
       "  </thead>\n",
       "  <tbody>\n",
       "    <tr>\n",
       "      <th>0</th>\n",
       "      <td>GHCND:FIE00142080</td>\n",
       "      <td>51</td>\n",
       "      <td>60.3269</td>\n",
       "      <td>24.9603</td>\n",
       "      <td>19520101</td>\n",
       "      <td>0.31</td>\n",
       "      <td>37</td>\n",
       "      <td>39</td>\n",
       "      <td>34</td>\n",
       "      <td>1952-01-01</td>\n",
       "      <td>1952</td>\n",
       "      <td>1</td>\n",
       "      <td>1952-01-01</td>\n",
       "    </tr>\n",
       "    <tr>\n",
       "      <th>1</th>\n",
       "      <td>GHCND:FIE00142080</td>\n",
       "      <td>51</td>\n",
       "      <td>60.3269</td>\n",
       "      <td>24.9603</td>\n",
       "      <td>19520102</td>\n",
       "      <td>-9999.00</td>\n",
       "      <td>35</td>\n",
       "      <td>37</td>\n",
       "      <td>34</td>\n",
       "      <td>1952-01-01</td>\n",
       "      <td>1952</td>\n",
       "      <td>1</td>\n",
       "      <td>1952-01-01</td>\n",
       "    </tr>\n",
       "    <tr>\n",
       "      <th>2</th>\n",
       "      <td>GHCND:FIE00142080</td>\n",
       "      <td>51</td>\n",
       "      <td>60.3269</td>\n",
       "      <td>24.9603</td>\n",
       "      <td>19520103</td>\n",
       "      <td>0.14</td>\n",
       "      <td>33</td>\n",
       "      <td>36</td>\n",
       "      <td>-9999</td>\n",
       "      <td>1952-01-01</td>\n",
       "      <td>1952</td>\n",
       "      <td>1</td>\n",
       "      <td>1952-01-01</td>\n",
       "    </tr>\n",
       "    <tr>\n",
       "      <th>3</th>\n",
       "      <td>GHCND:FIE00142080</td>\n",
       "      <td>51</td>\n",
       "      <td>60.3269</td>\n",
       "      <td>24.9603</td>\n",
       "      <td>19520104</td>\n",
       "      <td>0.05</td>\n",
       "      <td>29</td>\n",
       "      <td>30</td>\n",
       "      <td>25</td>\n",
       "      <td>1952-01-01</td>\n",
       "      <td>1952</td>\n",
       "      <td>1</td>\n",
       "      <td>1952-01-01</td>\n",
       "    </tr>\n",
       "    <tr>\n",
       "      <th>4</th>\n",
       "      <td>GHCND:FIE00142080</td>\n",
       "      <td>51</td>\n",
       "      <td>60.3269</td>\n",
       "      <td>24.9603</td>\n",
       "      <td>19520105</td>\n",
       "      <td>0.06</td>\n",
       "      <td>27</td>\n",
       "      <td>30</td>\n",
       "      <td>25</td>\n",
       "      <td>1952-01-01</td>\n",
       "      <td>1952</td>\n",
       "      <td>1</td>\n",
       "      <td>1952-01-01</td>\n",
       "    </tr>\n",
       "  </tbody>\n",
       "</table>\n",
       "</div>"
      ],
      "text/plain": [
       "             STATION  ELEVATION  LATITUDE  LONGITUDE      DATE     PRCP  TAVG  \\\n",
       "0  GHCND:FIE00142080         51   60.3269    24.9603  19520101     0.31    37   \n",
       "1  GHCND:FIE00142080         51   60.3269    24.9603  19520102 -9999.00    35   \n",
       "2  GHCND:FIE00142080         51   60.3269    24.9603  19520103     0.14    33   \n",
       "3  GHCND:FIE00142080         51   60.3269    24.9603  19520104     0.05    29   \n",
       "4  GHCND:FIE00142080         51   60.3269    24.9603  19520105     0.06    27   \n",
       "\n",
       "   TMAX  TMIN  DATE_CONV  YEAR  MONTH DATE_CONV_yrmon  \n",
       "0    39    34 1952-01-01  1952      1      1952-01-01  \n",
       "1    37    34 1952-01-01  1952      1      1952-01-01  \n",
       "2    36 -9999 1952-01-01  1952      1      1952-01-01  \n",
       "3    30    25 1952-01-01  1952      1      1952-01-01  \n",
       "4    30    25 1952-01-01  1952      1      1952-01-01  "
      ]
     },
     "execution_count": 34,
     "metadata": {},
     "output_type": "execute_result"
    }
   ],
   "source": [
    "monthly_data = pd.DataFrame()\n",
    "\n",
    "##Format \"data\" (csv) into datatime form that will allow grouping\n",
    "data[\"DATE_CONV\"] = pd.to_datetime(data[\"DATE\"], format='%Y%m', exact=False)\n",
    "#data[\"DATE_CONV\"].head()\n",
    "\n",
    "data['YEAR'] = data['DATE_CONV'].dt.year\n",
    "data['MONTH'] = data['DATE_CONV'].dt.month\n",
    "data.head()\n",
    "\n",
    "#grouped = data.groupby([\"YEAR\", \"MONTH\"])\n",
    "#grouped.groups.keys()\n",
    "\n",
    "#for key, group in grouped:\n",
    "#    print(\"Key:\\n\", key)\n",
    "#    print(\"\\nFirst rows of data in this group:\\n\", group.head())\n",
    "   \n",
    "#    break"
   ]
  },
  {
   "cell_type": "code",
   "execution_count": null,
   "metadata": {
    "deletable": false,
    "nbgrader": {
     "cell_type": "code",
     "checksum": "48f56d2077cb703b79d02557263e3962",
     "grade": true,
     "grade_id": "problem_2_monthly_averages_test1",
     "locked": true,
     "points": 1.5,
     "schema_version": 3,
     "solution": false
    }
   },
   "outputs": [],
   "source": [
    "# This test print should print the length of variable monthly_data\n",
    "print(len(monthly_data))\n"
   ]
  },
  {
   "cell_type": "code",
   "execution_count": null,
   "metadata": {
    "deletable": false,
    "editable": false,
    "nbgrader": {
     "cell_type": "code",
     "checksum": "2463d4ed62ab38769e165c72a08394da",
     "grade": true,
     "grade_id": "problem_2_monthly_averages_test2",
     "locked": true,
     "points": 2,
     "schema_version": 3,
     "solution": false
    }
   },
   "outputs": [],
   "source": [
    "# This test print should print the column names of monthly_data\n",
    "print(monthly_data.columns)\n"
   ]
  },
  {
   "cell_type": "code",
   "execution_count": null,
   "metadata": {
    "deletable": false,
    "editable": false,
    "nbgrader": {
     "cell_type": "code",
     "checksum": "47546e9bc7bf7625590e9f092aaad896",
     "grade": true,
     "grade_id": "problem_2_monthly_averages_test3",
     "locked": true,
     "points": 2,
     "schema_version": 3,
     "solution": false
    }
   },
   "outputs": [],
   "source": [
    "# This test print should print the mean of temp_celsius\n",
    "print(monthly_data['temp_celsius'].mean())\n"
   ]
  },
  {
   "cell_type": "code",
   "execution_count": null,
   "metadata": {
    "deletable": false,
    "editable": false,
    "nbgrader": {
     "cell_type": "code",
     "checksum": "2ebed8cb97935b500f6ad87ecac43970",
     "grade": true,
     "grade_id": "problem_2_monthly_averages_test4",
     "locked": true,
     "points": 2,
     "schema_version": 3,
     "solution": false
    }
   },
   "outputs": [],
   "source": [
    "# This test print should print the median of temp_celsius\n",
    "print(monthly_data['temp_celsius'].median())\n"
   ]
  },
  {
   "cell_type": "markdown",
   "metadata": {
    "deletable": false,
    "editable": false,
    "nbgrader": {
     "cell_type": "markdown",
     "checksum": "c1084f701fbfb3db9735a8d8979cac97",
     "grade": false,
     "grade_id": "cell-ccd31e45c30df3ec",
     "locked": true,
     "schema_version": 3,
     "solution": false
    }
   },
   "source": [
    "## Problem 3 - Calculating temperature anomalies (*7.5 points*)\n",
    "\n",
    "Our goal in this problem is to calculate monthly temperature anomalies in order to see how temperatures have changed over time, relative to the observation period between 1952-1980.\n",
    "\n",
    "**You can continue working with the same data that you used in Problem 1.**\n",
    "\n",
    "**Notice**: Closely follow the instructions! For example, you should be sure to use **exactly** the same variable names mentioned in the instructions because your answers will be automatically graded, and the tests that grade your answers rely on following the same formatting or variable naming as in the instructions.\n",
    "\n",
    "**Your score on this problem will be based on following criteria:**\n",
    "\n",
    "- Calculating a mean temperature ***for each month*** over the period from 1952 up to and including 1980 using the data in the data file\n",
    "    - You should end up with 12 values, 1 mean temperature for each month in that period, and store them in a new Pandas DataFrame called `reference_temps`\n",
    "    - The columns in the new DataFrame should be titled `Month` and `ref_temp`\n",
    "    \n",
    "    For example, your `reference_temps` data should be something like that below, 1 value for each month of the year (12 total) and remember these temperatures should be in degrees Celsius:\n",
    "   \n",
    "| Month    | ref_temp         |\n",
    "|----------|------------------|\n",
    "| 01       | -5.838761        |\n",
    "| 02       | -7.064088        |\n",
    "| 03       | -3.874213        |\n",
    "| ...      | ...              |\n",
    "\n",
    "- Calculating a temperature anomaly for every month in the `monthly_data` DataFrame using the corresponding monthly average temperature for each of the 12 months\n",
    "    - The temperature anomaly we want to calculate is simply the temperature for a given month in `monthly_data` (`temp_celsius` column) minus the corresponding monthly reference temperature in the `ref_temp` column of the `reference_temps` DataFrame\n",
    "        - Hint: You need to make a table join (see [hints for this week](https://geo-python.github.io/site/lessons/L5/exercise-6.html))\n",
    "    - You should thus end up with three new columns in the `monthly_data` DataFrame: \n",
    "        1. `Diff`: The temperature anomaly, the difference in temperature for a given month (e.g., February 1960) compared to the average during the reference period (e.g., for February 1952-1980), \n",
    "        2. `Month`: The month\n",
    "        3. `ref_temp`: The monthly reference temperature\n",
    "- Including comments that explain what most lines in the code do\n",
    "- Answering a couple questions at the end of the problem\n",
    "- Uploading your notebook to your GitHub repository for this week's exercise"
   ]
  },
  {
   "cell_type": "code",
   "execution_count": null,
   "metadata": {
    "deletable": false,
    "nbgrader": {
     "cell_type": "code",
     "checksum": "2e616ad2b2168884688db05b6ea94552",
     "grade": false,
     "grade_id": "temperature_anomaly",
     "locked": false,
     "schema_version": 3,
     "solution": true
    }
   },
   "outputs": [],
   "source": [
    "# REPLACE THE ERROR BELOW WITH YOUR OWN CODE\n",
    "raise NotImplementedError()"
   ]
  },
  {
   "cell_type": "code",
   "execution_count": null,
   "metadata": {
    "deletable": false,
    "editable": false,
    "nbgrader": {
     "cell_type": "code",
     "checksum": "57bd3cb96adfe39737db87cd8b006862",
     "grade": true,
     "grade_id": "problem_3_temperature_anomaly_test1",
     "locked": true,
     "points": 1.5,
     "schema_version": 3,
     "solution": false
    }
   },
   "outputs": [],
   "source": [
    "# Let's confirm that we have the data\n",
    "print(monthly_data.head())\n"
   ]
  },
  {
   "cell_type": "code",
   "execution_count": null,
   "metadata": {
    "deletable": false,
    "editable": false,
    "nbgrader": {
     "cell_type": "code",
     "checksum": "12af694f29ff8695b539b4ae9e96c278",
     "grade": true,
     "grade_id": "problem_3_temperature_anomaly_test2",
     "locked": true,
     "points": 1.5,
     "schema_version": 3,
     "solution": false
    }
   },
   "outputs": [],
   "source": [
    "# This test print should print the length of the result\n",
    "print(len(monthly_data))\n"
   ]
  },
  {
   "cell_type": "code",
   "execution_count": null,
   "metadata": {
    "deletable": false,
    "editable": false,
    "nbgrader": {
     "cell_type": "code",
     "checksum": "62ffc036d98c975f35d662cc608b0d1d",
     "grade": true,
     "grade_id": "problem_3_temperature_anomaly_test3",
     "locked": true,
     "points": 1.5,
     "schema_version": 3,
     "solution": false
    }
   },
   "outputs": [],
   "source": [
    "# This test print should print the mean difference value\n",
    "print(monthly_data['Diff'].mean())\n"
   ]
  },
  {
   "cell_type": "code",
   "execution_count": null,
   "metadata": {
    "deletable": false,
    "editable": false,
    "nbgrader": {
     "cell_type": "code",
     "checksum": "185256225e1bce22ccb32712e0727fcc",
     "grade": true,
     "grade_id": "problem_3_temperature_anomaly_test4",
     "locked": true,
     "points": 1.5,
     "schema_version": 3,
     "solution": false
    }
   },
   "outputs": [],
   "source": [
    "# This test print should print the minimum difference value\n",
    "print(monthly_data['Diff'].min())\n"
   ]
  },
  {
   "cell_type": "code",
   "execution_count": null,
   "metadata": {
    "deletable": false,
    "editable": false,
    "nbgrader": {
     "cell_type": "code",
     "checksum": "fcbe8fdad93a2d287b9cf859192f8f9f",
     "grade": true,
     "grade_id": "problem_3_temperature_anomaly_test5",
     "locked": true,
     "points": 1.5,
     "schema_version": 3,
     "solution": false
    }
   },
   "outputs": [],
   "source": [
    "# This test print should print the maximum difference value\n",
    "print(monthly_data['Diff'].max())\n"
   ]
  },
  {
   "cell_type": "markdown",
   "metadata": {
    "deletable": false,
    "editable": false,
    "nbgrader": {
     "cell_type": "markdown",
     "checksum": "05d75271b13f8fd543895353efb8b61c",
     "grade": false,
     "grade_id": "cell-99d62d1b7e475fd6",
     "locked": true,
     "schema_version": 3,
     "solution": false
    }
   },
   "source": [
    "### On to Problem 4 (*optional*)\n",
    "\n",
    "Now you can continue to the *optional* [Problem 4](Exercise-6-problem-4.ipynb)"
   ]
  }
 ],
 "metadata": {
  "kernelspec": {
   "display_name": "Python 3",
   "language": "python",
   "name": "python3"
  },
  "language_info": {
   "codemirror_mode": {
    "name": "ipython",
    "version": 3
   },
   "file_extension": ".py",
   "mimetype": "text/x-python",
   "name": "python",
   "nbconvert_exporter": "python",
   "pygments_lexer": "ipython3",
   "version": "3.8.8"
  }
 },
 "nbformat": 4,
 "nbformat_minor": 4
}
