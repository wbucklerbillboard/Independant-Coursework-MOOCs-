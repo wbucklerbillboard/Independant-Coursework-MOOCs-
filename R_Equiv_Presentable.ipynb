{
 "cells": [
  {
   "cell_type": "code",
   "execution_count": null,
   "metadata": {},
   "outputs": [],
   "source": [
    "import pandas as pd\n",
    "\n",
    "data = pd.read_csv('database.csv') #, usecols='Date', 'Latitude', 'Longitude', 'Type', 'Depth', 'Magnitude', 'Magnitude_Type', 'ID')\n",
    "data[\"Year\"] = None\n",
    "#print(data)\n",
    "# Add Year column (in R, field)\n",
    "#data[\"Year\"] = None\n",
    "\n",
    "eq_subset = data[[\"Date\", 'Latitude', 'Longitude', 'Type', 'Depth', 'Magnitude', 'Magnitude Type', 'ID', 'Year']]\n",
    "print(eq_subset)"
   ]
  },
  {
   "cell_type": "code",
   "execution_count": null,
   "metadata": {},
   "outputs": [],
   "source": [
    "# Convert date to dd/mm/year\n",
    "#data['TIME_STR'] = data['Date'].astype(str)\n",
    "\n",
    "## Had to use utc parameter.  Otherwise, accessor (dt.year) didn't work;\n",
    "## Also, datetime dtype was an 'Object'\n",
    "data['Date'] = pd.to_datetime(data['Date'], utc=True)\n",
    "data['Year'] = data['Date'].dt.year\n",
    "#data\n",
    "\n",
    "#data['TIME_STR'] = data['Date'].astype(str)\n",
    "#data['Year'] = data['TIME_STR'].str.slice(start=0, stop=3)"
   ]
  },
  {
   "cell_type": "code",
   "execution_count": null,
   "metadata": {},
   "outputs": [],
   "source": [
    "# Error found in for loop/Earthquake count-year creation:\n",
    "# TypeError: list indices must be integers or slices, not str\n",
    "# Source: https://www.geeksforgeeks.org/python-converting-all-strings-in-list-to-integers/\n",
    "\n",
    "test_list = data['Year']\n",
    "test_list = list(map(int, test_list))\n",
    "#test_list"
   ]
  },
  {
   "cell_type": "code",
   "execution_count": null,
   "metadata": {},
   "outputs": [],
   "source": [
    "groupyear = data.groupby('Year')\n",
    "\n",
    "# Inspect groupby\n",
    "#group1 = groupyear.get_group(2016)\n",
    "#print(group1)\n",
    "\n",
    "# Alternative groupby.  Due to how using Year creates str-to-int error\n",
    "#groupdate = data.groupby('Date')"
   ]
  },
  {
   "cell_type": "code",
   "execution_count": null,
   "metadata": {},
   "outputs": [],
   "source": [
    "#  https://www.stackvidhya.com/add-column-to-dataframe/#:~:text=insert()%20method%20%E2%80%93%20Use%20insert,column%20in%20the%20same%20dataframe.\n",
    "\n",
    "year_eqf = pd.DataFrame()\n",
    "year_eqf['Earthquake Count'] = None\n",
    "\n",
    "#for key, group in groupyear:\n",
    "#    year_eqf['Earthquake Count'] = len(group)\n",
    "#    year_eqf['Year'] = key\n",
    "\n",
    "#year_eqf\n",
    "\n",
    "## Came across groupby.count() Pandas reference, as a variation of grouped.mean(), found in\n",
    "## \"Finding the mean for all groups at once\n",
    "##  We can also achieve the same result by...\", Geo-Python 2021, lesson 6, Pandas II \n",
    "year_eqf['Earthquake Count'] = groupyear['Year'].count()\n",
    "year_eqf['Avg Magnitude'] = groupyear['Magnitude'].mean()\n",
    "year_eqf['Max Magnitude'] = groupyear['Magnitude'].max()\n",
    "year_eqf"
   ]
  },
  {
   "cell_type": "code",
   "execution_count": null,
   "metadata": {},
   "outputs": [],
   "source": [
    "year_eqf.to_csv(path_or_buf= 'C:/Users/Will Buckler/Desktop/SWEFC/DataPipe_R_Spark_Java/quakes.csv')\n",
    "eq_subset.to_csv(path_or_buf = 'C:/Users/Will Buckler/Desktop/SWEFC/DataPipe_R_Spark_Java/quake_freq.csv')"
   ]
  },
  {
   "cell_type": "code",
   "execution_count": null,
   "metadata": {},
   "outputs": [],
   "source": []
  },
  {
   "cell_type": "code",
   "execution_count": null,
   "metadata": {},
   "outputs": [],
   "source": []
  },
  {
   "cell_type": "code",
   "execution_count": null,
   "metadata": {},
   "outputs": [],
   "source": []
  },
  {
   "cell_type": "code",
   "execution_count": null,
   "metadata": {},
   "outputs": [],
   "source": []
  }
 ],
 "metadata": {
  "kernelspec": {
   "display_name": "Python 3",
   "language": "python",
   "name": "python3"
  },
  "language_info": {
   "codemirror_mode": {
    "name": "ipython",
    "version": 3
   },
   "file_extension": ".py",
   "mimetype": "text/x-python",
   "name": "python",
   "nbconvert_exporter": "python",
   "pygments_lexer": "ipython3",
   "version": "3.8.5"
  }
 },
 "nbformat": 4,
 "nbformat_minor": 4
}
